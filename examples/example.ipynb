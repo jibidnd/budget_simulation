{
 "cells": [
  {
   "cell_type": "code",
   "execution_count": 7,
   "metadata": {},
   "outputs": [
    {
     "ename": "ImportError",
     "evalue": "attempted relative import with no known parent package",
     "output_type": "error",
     "traceback": [
      "\u001b[0;31m---------------------------------------------------------------------------\u001b[0m",
      "\u001b[0;31mImportError\u001b[0m                               Traceback (most recent call last)",
      "Cell \u001b[0;32mIn[7], line 4\u001b[0m\n\u001b[1;32m      1\u001b[0m \u001b[39mimport\u001b[39;00m \u001b[39mmatplotlib\u001b[39;00m\u001b[39m.\u001b[39;00m\u001b[39mpyplot\u001b[39;00m \u001b[39mas\u001b[39;00m \u001b[39mplt\u001b[39;00m\n\u001b[1;32m      2\u001b[0m get_ipython()\u001b[39m.\u001b[39mrun_line_magic(\u001b[39m'\u001b[39m\u001b[39mmatplotlib\u001b[39m\u001b[39m'\u001b[39m, \u001b[39m'\u001b[39m\u001b[39minline\u001b[39m\u001b[39m'\u001b[39m)\n\u001b[0;32m----> 4\u001b[0m \u001b[39mfrom\u001b[39;00m \u001b[39m.\u001b[39;00m\u001b[39m.\u001b[39;00m\u001b[39mbudget_simulation_tool\u001b[39;00m \u001b[39mimport\u001b[39;00m ConstantItem, DiscreteItem, ContinuousItem, Budget\n",
      "\u001b[0;31mImportError\u001b[0m: attempted relative import with no known parent package"
     ]
    }
   ],
   "source": [
    "import matplotlib.pyplot as plt\n",
    "%matplotlib inline\n",
    "\n",
    "from ..budget_simulation_tool import ConstantItem, DiscreteItem, ContinuousItem, Budget\n"
   ]
  },
  {
   "attachments": {},
   "cell_type": "markdown",
   "metadata": {},
   "source": [
    "# Create our items"
   ]
  },
  {
   "cell_type": "code",
   "execution_count": null,
   "metadata": {},
   "outputs": [],
   "source": [
    "# Constant Item\n",
    "gym_membership = ConstantItem(\n",
    "    'gym_membership',\n",
    "    -5\n",
    ")\n",
    "\n",
    "# Discrete Item, does not depend on prior\n",
    "car_maintenance = DiscreteItem(\n",
    "    'car_maintenance',\n",
    "    {'small_item': -5, 'big_item': -30, 'both': -35, 'no_maintenance': 0},\n",
    "    [0.1, 0.05, 0.01, 0.84]\n",
    ")\n",
    "    \n",
    "\n",
    "# Discrete Item, depends on prior\n",
    "employment_income = DiscreteItem(\n",
    "    'employment_income',\n",
    "    {'cushy_job': 100, 'startup': 80, 'IPO': 300, 'jobless': 0},\n",
    "    [\n",
    "        [0.95, 0.0, 0.0, 0.05],\n",
    "        [0.1, 0.8, 0.05, 0.05],\n",
    "        [0.0, 0.0, 0.80, 0.20],\n",
    "        [0.70, 0.0, 0.0, 0.30]\n",
    "        ],\n",
    "    init = 'startup'\n",
    "    )\n",
    "\n",
    "# Continuous Item, does not depend on prior\n",
    "groceries = ContinuousItem(\n",
    "    'groceries',\n",
    "    lambda: -np.random.exponential(50),\n",
    "    init = 100\n",
    "    )\n",
    "\n",
    "# Continuous Item, depends on prior\n",
    "utilities = ContinuousItem(\n",
    "    'utilities',\n",
    "    lambda prior: -np.random.exponential(abs(prior)),\n",
    "    init = -100\n",
    "    )"
   ]
  },
  {
   "attachments": {},
   "cell_type": "markdown",
   "metadata": {},
   "source": [
    "# Create our budget"
   ]
  },
  {
   "cell_type": "code",
   "execution_count": null,
   "metadata": {},
   "outputs": [],
   "source": [
    "budget = Budget(\n",
    "    gym_membership,\n",
    "    car_maintenance,\n",
    "    employment_income,\n",
    "    groceries,\n",
    "    utilities\n",
    ")"
   ]
  },
  {
   "attachments": {},
   "cell_type": "markdown",
   "metadata": {},
   "source": [
    "# Simulate the budget"
   ]
  },
  {
   "attachments": {},
   "cell_type": "markdown",
   "metadata": {},
   "source": []
  }
 ],
 "metadata": {
  "kernelspec": {
   "display_name": "base",
   "language": "python",
   "name": "python3"
  },
  "language_info": {
   "codemirror_mode": {
    "name": "ipython",
    "version": 3
   },
   "file_extension": ".py",
   "mimetype": "text/x-python",
   "name": "python",
   "nbconvert_exporter": "python",
   "pygments_lexer": "ipython3",
   "version": "3.11.3"
  },
  "orig_nbformat": 4
 },
 "nbformat": 4,
 "nbformat_minor": 2
}
